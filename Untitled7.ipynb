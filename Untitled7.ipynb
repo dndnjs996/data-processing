{
 "cells": [
  {
   "cell_type": "code",
   "execution_count": 1,
   "id": "76fd2189",
   "metadata": {},
   "outputs": [
    {
     "name": "stderr",
     "output_type": "stream",
     "text": [
      "[WARNING] [Config      ] Older configuration version detected (0 instead of 21)\n",
      "[WARNING] [Config      ] Upgrading configuration in progress.\n",
      "[INFO   ] [Logger      ] Record log in C:\\Users\\dndnj\\.kivy\\logs\\kivy_21-08-20_0.txt\n",
      "[INFO   ] [deps        ] Successfully imported \"kivy_deps.gstreamer\" 0.1.18\n",
      "[INFO   ] [deps        ] Successfully imported \"kivy_deps.glew\" 0.1.12\n",
      "[INFO   ] [deps        ] Successfully imported \"kivy_deps.sdl2\" 0.1.23\n",
      "[INFO   ] [Kivy        ] v2.0.0rc2, git-78fb93b, 20200429\n",
      "[INFO   ] [Kivy        ] Installed at \"C:\\Users\\dndnj\\anaconda3\\lib\\site-packages\\kivy\\__init__.py\"\n",
      "[INFO   ] [Python      ] v3.8.10 (default, May 19 2021, 13:12:57) [MSC v.1916 64 bit (AMD64)]\n",
      "[INFO   ] [Python      ] Interpreter at \"C:\\Users\\dndnj\\anaconda3\\python.exe\"\n",
      "[INFO   ] [Factory     ] 184 symbols loaded\n",
      "[INFO   ] [Image       ] Providers: img_tex, img_dds, img_sdl2, img_pil (img_ffpyplayer, img_gif ignored)\n",
      "[INFO   ] [Text        ] Provider: sdl2\n",
      "[INFO   ] [Window      ] Provider: sdl2\n",
      "[CRITICAL] [Window      ] Unable to find any valuable Window provider. Please enable debug logging (e.g. add -d if running from the command line, or change the log level in the config) and re-run your app to identify potential causes\n",
      "sdl2 - ImportError: DLL load failed while importing cgl_glew: 지정된 모듈을 찾을 수 없습니다.\n",
      "  File \"C:\\Users\\dndnj\\anaconda3\\lib\\site-packages\\kivy\\core\\__init__.py\", line 70, in core_select_lib\n",
      "    cls = cls()\n",
      "  File \"C:\\Users\\dndnj\\anaconda3\\lib\\site-packages\\kivy\\core\\window\\window_sdl2.py\", line 152, in __init__\n",
      "    super(WindowSDL, self).__init__()\n",
      "  File \"C:\\Users\\dndnj\\anaconda3\\lib\\site-packages\\kivy\\core\\window\\__init__.py\", line 981, in __init__\n",
      "    self.create_window()\n",
      "  File \"C:\\Users\\dndnj\\anaconda3\\lib\\site-packages\\kivy\\core\\window\\window_sdl2.py\", line 290, in create_window\n",
      "    self.get_gl_backend_name())\n",
      "  File \"C:\\Users\\dndnj\\anaconda3\\lib\\site-packages\\kivy\\core\\window\\__init__.py\", line 1223, in get_gl_backend_name\n",
      "    return cgl_get_backend_name(\n",
      "  File \"kivy\\graphics\\cgl.pyx\", line 56, in kivy.graphics.cgl.cgl_get_backend_name\n",
      "  File \"kivy\\graphics\\cgl.pyx\", line 69, in kivy.graphics.cgl.cgl_get_backend_name\n",
      "  File \"C:\\Users\\dndnj\\anaconda3\\lib\\importlib\\__init__.py\", line 127, in import_module\n",
      "    return _bootstrap._gcd_import(name[level:], package, level)\n",
      "  File \"<frozen importlib._bootstrap>\", line 1014, in _gcd_import\n",
      "  File \"<frozen importlib._bootstrap>\", line 991, in _find_and_load\n",
      "  File \"<frozen importlib._bootstrap>\", line 975, in _find_and_load_unlocked\n",
      "  File \"<frozen importlib._bootstrap>\", line 657, in _load_unlocked\n",
      "  File \"<frozen importlib._bootstrap>\", line 556, in module_from_spec\n",
      "  File \"<frozen importlib._bootstrap_external>\", line 1166, in create_module\n",
      "  File \"<frozen importlib._bootstrap>\", line 219, in _call_with_frames_removed\n",
      "\n",
      "[CRITICAL] [App         ] Unable to get a Window, abort.\n"
     ]
    },
    {
     "ename": "SystemExit",
     "evalue": "1",
     "output_type": "error",
     "traceback": [
      "An exception has occurred, use %tb to see the full traceback.\n",
      "\u001b[1;31mSystemExit\u001b[0m\u001b[1;31m:\u001b[0m 1\n"
     ]
    },
    {
     "name": "stderr",
     "output_type": "stream",
     "text": [
      " C:\\Users\\dndnj\\anaconda3\\lib\\site-packages\\IPython\\core\\interactiveshell.py:3445: UserWarning: To exit: use 'exit', 'quit', or Ctrl-D.\n",
      "   warn(\"To exit: use 'exit', 'quit', or Ctrl-D.\", stacklevel=1)\n",
      "[CRITICAL] [App         ] Unable to get a Window, abort.\n"
     ]
    }
   ],
   "source": [
    "import kivy\n",
    "from kivy.app import App\n",
    "from kivy.uix.label import Label\n",
    " \n",
    "class KivyApp(App):\n",
    "    def build(self):\n",
    "        return Label(text='KIVY LABEL TEST')\n",
    " \n",
    "if __name__ == '__main__':\n",
    "    KivyApp().run()\n"
   ]
  },
  {
   "cell_type": "code",
   "execution_count": 2,
   "id": "45c99770",
   "metadata": {
    "scrolled": true
   },
   "outputs": [
    {
     "ename": "SystemExit",
     "evalue": "1",
     "output_type": "error",
     "traceback": [
      "An exception has occurred, use %tb to see the full traceback.\n",
      "\u001b[1;31mSystemExit\u001b[0m\u001b[1;31m:\u001b[0m 1\n"
     ]
    }
   ],
   "source": [
    "import kivy\n",
    "from kivy.app import App\n",
    "from kivy.uix.label import Label\n",
    " \n",
    "class KivyApp(App):\n",
    "    def build(self):\n",
    "        return Label(text='KIVY LABEL TEST')\n",
    " \n",
    "if __name__ == '__main__':\n",
    "    KivyApp().run()"
   ]
  },
  {
   "cell_type": "code",
   "execution_count": null,
   "id": "b236871d",
   "metadata": {},
   "outputs": [],
   "source": []
  }
 ],
 "metadata": {
  "kernelspec": {
   "display_name": "Python 3",
   "language": "python",
   "name": "python3"
  },
  "language_info": {
   "codemirror_mode": {
    "name": "ipython",
    "version": 3
   },
   "file_extension": ".py",
   "mimetype": "text/x-python",
   "name": "python",
   "nbconvert_exporter": "python",
   "pygments_lexer": "ipython3",
   "version": "3.8.10"
  }
 },
 "nbformat": 4,
 "nbformat_minor": 5
}
