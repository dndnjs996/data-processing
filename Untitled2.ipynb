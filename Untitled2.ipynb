{
 "cells": [
  {
   "cell_type": "code",
   "execution_count": 18,
   "id": "072cf4db",
   "metadata": {},
   "outputs": [],
   "source": [
    "import numpy as np\n",
    "import pandas as pd\n",
    "import matplotlib.pyplot as plt\n",
    "import seaborn as sns\n",
    "import re\n",
    "\n",
    "from lightgbm import LGBMClassifier\n",
    "from sklearn.metrics import roc_auc_score, roc_curve, confusion_matrix, RocCurveDisplay\n",
    "from sklearn.model_selection import StratifiedKFold"
   ]
  },
  {
   "cell_type": "code",
   "execution_count": 3,
   "id": "8c3ffc9c",
   "metadata": {},
   "outputs": [
    {
     "data": {
      "text/plain": [
       "<bound method NDFrame.head of         SK_ID_CURR  TARGET NAME_CONTRACT_TYPE CODE_GENDER FLAG_OWN_CAR  \\\n",
       "0           100002       1         Cash loans           M            N   \n",
       "1           100003       0         Cash loans           F            N   \n",
       "2           100004       0    Revolving loans           M            Y   \n",
       "3           100006       0         Cash loans           F            N   \n",
       "4           100007       0         Cash loans           M            N   \n",
       "...            ...     ...                ...         ...          ...   \n",
       "307506      456251       0         Cash loans           M            N   \n",
       "307507      456252       0         Cash loans           F            N   \n",
       "307508      456253       0         Cash loans           F            N   \n",
       "307509      456254       1         Cash loans           F            N   \n",
       "307510      456255       0         Cash loans           F            N   \n",
       "\n",
       "       FLAG_OWN_REALTY  CNT_CHILDREN  AMT_INCOME_TOTAL  AMT_CREDIT  \\\n",
       "0                    Y             0          202500.0    406597.5   \n",
       "1                    N             0          270000.0   1293502.5   \n",
       "2                    Y             0           67500.0    135000.0   \n",
       "3                    Y             0          135000.0    312682.5   \n",
       "4                    Y             0          121500.0    513000.0   \n",
       "...                ...           ...               ...         ...   \n",
       "307506               N             0          157500.0    254700.0   \n",
       "307507               Y             0           72000.0    269550.0   \n",
       "307508               Y             0          153000.0    677664.0   \n",
       "307509               Y             0          171000.0    370107.0   \n",
       "307510               N             0          157500.0    675000.0   \n",
       "\n",
       "        AMT_ANNUITY  ...  FLAG_DOCUMENT_18 FLAG_DOCUMENT_19 FLAG_DOCUMENT_20  \\\n",
       "0           24700.5  ...                 0                0                0   \n",
       "1           35698.5  ...                 0                0                0   \n",
       "2            6750.0  ...                 0                0                0   \n",
       "3           29686.5  ...                 0                0                0   \n",
       "4           21865.5  ...                 0                0                0   \n",
       "...             ...  ...               ...              ...              ...   \n",
       "307506      27558.0  ...                 0                0                0   \n",
       "307507      12001.5  ...                 0                0                0   \n",
       "307508      29979.0  ...                 0                0                0   \n",
       "307509      20205.0  ...                 0                0                0   \n",
       "307510      49117.5  ...                 0                0                0   \n",
       "\n",
       "       FLAG_DOCUMENT_21 AMT_REQ_CREDIT_BUREAU_HOUR AMT_REQ_CREDIT_BUREAU_DAY  \\\n",
       "0                     0                        0.0                       0.0   \n",
       "1                     0                        0.0                       0.0   \n",
       "2                     0                        0.0                       0.0   \n",
       "3                     0                        NaN                       NaN   \n",
       "4                     0                        0.0                       0.0   \n",
       "...                 ...                        ...                       ...   \n",
       "307506                0                        NaN                       NaN   \n",
       "307507                0                        NaN                       NaN   \n",
       "307508                0                        1.0                       0.0   \n",
       "307509                0                        0.0                       0.0   \n",
       "307510                0                        0.0                       0.0   \n",
       "\n",
       "        AMT_REQ_CREDIT_BUREAU_WEEK  AMT_REQ_CREDIT_BUREAU_MON  \\\n",
       "0                              0.0                        0.0   \n",
       "1                              0.0                        0.0   \n",
       "2                              0.0                        0.0   \n",
       "3                              NaN                        NaN   \n",
       "4                              0.0                        0.0   \n",
       "...                            ...                        ...   \n",
       "307506                         NaN                        NaN   \n",
       "307507                         NaN                        NaN   \n",
       "307508                         0.0                        1.0   \n",
       "307509                         0.0                        0.0   \n",
       "307510                         0.0                        2.0   \n",
       "\n",
       "        AMT_REQ_CREDIT_BUREAU_QRT  AMT_REQ_CREDIT_BUREAU_YEAR  \n",
       "0                             0.0                         1.0  \n",
       "1                             0.0                         0.0  \n",
       "2                             0.0                         0.0  \n",
       "3                             NaN                         NaN  \n",
       "4                             0.0                         0.0  \n",
       "...                           ...                         ...  \n",
       "307506                        NaN                         NaN  \n",
       "307507                        NaN                         NaN  \n",
       "307508                        0.0                         1.0  \n",
       "307509                        0.0                         0.0  \n",
       "307510                        0.0                         1.0  \n",
       "\n",
       "[307511 rows x 122 columns]>"
      ]
     },
     "execution_count": 3,
     "metadata": {},
     "output_type": "execute_result"
    }
   ],
   "source": [
    "df = pd.read_csv(\"C:/Users/dndnj/OneDrive/바탕 화면/데청캠/캐글실습/application_train.csv\")\n",
    "df_test = pd.read_csv(\"C:/Users/dndnj/OneDrive/바탕 화면/데청캠/캐글실습/application_test.csv\")\n",
    "\n",
    "df.head"
   ]
  },
  {
   "cell_type": "code",
   "execution_count": 4,
   "id": "3c7e55b0",
   "metadata": {},
   "outputs": [
    {
     "data": {
      "text/plain": [
       "0    0.919271\n",
       "1    0.080729\n",
       "Name: TARGET, dtype: float64"
      ]
     },
     "execution_count": 4,
     "metadata": {},
     "output_type": "execute_result"
    }
   ],
   "source": [
    "df.TARGET.value_counts(normalize=True)"
   ]
  },
  {
   "cell_type": "code",
   "execution_count": 5,
   "id": "2b297b86",
   "metadata": {},
   "outputs": [
    {
     "data": {
      "text/html": [
       "<div>\n",
       "<style scoped>\n",
       "    .dataframe tbody tr th:only-of-type {\n",
       "        vertical-align: middle;\n",
       "    }\n",
       "\n",
       "    .dataframe tbody tr th {\n",
       "        vertical-align: top;\n",
       "    }\n",
       "\n",
       "    .dataframe thead th {\n",
       "        text-align: right;\n",
       "    }\n",
       "</style>\n",
       "<table border=\"1\" class=\"dataframe\">\n",
       "  <thead>\n",
       "    <tr style=\"text-align: right;\">\n",
       "      <th></th>\n",
       "      <th>Total</th>\n",
       "      <th>Missing (%)</th>\n",
       "    </tr>\n",
       "  </thead>\n",
       "  <tbody>\n",
       "    <tr>\n",
       "      <th>COMMONAREA_MEDI</th>\n",
       "      <td>214865</td>\n",
       "      <td>69.872297</td>\n",
       "    </tr>\n",
       "    <tr>\n",
       "      <th>COMMONAREA_AVG</th>\n",
       "      <td>214865</td>\n",
       "      <td>69.872297</td>\n",
       "    </tr>\n",
       "    <tr>\n",
       "      <th>COMMONAREA_MODE</th>\n",
       "      <td>214865</td>\n",
       "      <td>69.872297</td>\n",
       "    </tr>\n",
       "    <tr>\n",
       "      <th>NONLIVINGAPARTMENTS_MODE</th>\n",
       "      <td>213514</td>\n",
       "      <td>69.432963</td>\n",
       "    </tr>\n",
       "    <tr>\n",
       "      <th>NONLIVINGAPARTMENTS_AVG</th>\n",
       "      <td>213514</td>\n",
       "      <td>69.432963</td>\n",
       "    </tr>\n",
       "  </tbody>\n",
       "</table>\n",
       "</div>"
      ],
      "text/plain": [
       "                           Total  Missing (%)\n",
       "COMMONAREA_MEDI           214865    69.872297\n",
       "COMMONAREA_AVG            214865    69.872297\n",
       "COMMONAREA_MODE           214865    69.872297\n",
       "NONLIVINGAPARTMENTS_MODE  213514    69.432963\n",
       "NONLIVINGAPARTMENTS_AVG   213514    69.432963"
      ]
     },
     "execution_count": 5,
     "metadata": {},
     "output_type": "execute_result"
    }
   ],
   "source": [
    "total = df.isnull().sum().sort_values(ascending=False)\n",
    "missing = (df.isnull().sum() / df.isnull().count() * 100).sort_values(ascending=False)\n",
    "missing_percent  = pd.concat([total, missing], axis=1, keys=[\"Total\", \"Missing (%)\"])\n",
    "missing_percent.head()"
   ]
  },
  {
   "cell_type": "code",
   "execution_count": 6,
   "id": "729b9925",
   "metadata": {},
   "outputs": [
    {
     "data": {
      "image/png": "[encoded data removed]",
      "text/plain": [
       "<Figure size 1080x576 with 1 Axes>"
      ]
     },
     "metadata": {
      "needs_background": "light"
     },
     "output_type": "display_data"
    }
   ],
   "source": [
    "temp0 = df[\"EXT_SOURCE_3\"][df[\"TARGET\"]==0]\n",
    "temp1 = df[\"EXT_SOURCE_3\"][df[\"TARGET\"]==1]\n",
    "\n",
    "con = pd.concat([temp0, temp1], axis=1, ignore_index=False)\n",
    "con.columns=[\"0\", \"1\"]\n",
    "\n",
    "ax = con.plot.hist(by=[\"0\", \"1\"],bins=30, alpha=0.5,figsize=(15,8))\n",
    "ax.set_xlabel(\"Value\")\n",
    "ax.set_title(\"External Source 3 Credit Value Histogram\")\n",
    "\n",
    "del temp0,temp1,con"
   ]
  },
  {
   "cell_type": "code",
   "execution_count": 7,
   "id": "e2460f20",
   "metadata": {},
   "outputs": [
    {
     "data": {
      "image/png": "[encoded data removed]",
      "text/plain": [
       "<Figure size 1080x576 with 1 Axes>"
      ]
     },
     "metadata": {
      "needs_background": "light"
     },
     "output_type": "display_data"
    },
    {
     "data": {
      "image/png": "[encoded data removed]",
      "text/plain": [
       "<Figure size 1080x576 with 1 Axes>"
      ]
     },
     "metadata": {
      "needs_background": "light"
     },
     "output_type": "display_data"
    }
   ],
   "source": [
    "temp0 = df[\"DAYS_BIRTH\"][df[\"TARGET\"]==0]\n",
    "temp1 = df[\"DAYS_BIRTH\"][df[\"TARGET\"]==1]\n",
    "\n",
    "con = pd.concat([temp0, temp1], axis=1, ignore_index=False)\n",
    "con.columns=[\"0\", \"1\"]\n",
    "con = con/-365\n",
    "ax = con.plot.hist(by=[\"0\", \"1\"],bins=30, alpha=0.5,figsize=(15,8))\n",
    "ax.set_xlabel(\"Age\")\n",
    "ax.set_title(\"Applicant's Age Histogram\")\n",
    "\n",
    "temp_total = df[\"DAYS_BIRTH\"]/-365\n",
    "bins = [20, 25, 30, 35, 40, 45, 50, 55, 60, 65, 100]\n",
    "temp1 = pd.cut(temp1/-365, bins).value_counts()\n",
    "temp_total = pd.cut(temp_total, bins).value_counts()\n",
    "\n",
    "percent = temp1.div(temp_total)*100\n",
    "\n",
    "fig, ax2 = plt.subplots(1, 1,figsize=(15,8))\n",
    "ax2 = percent.plot.bar(rot=0, ax=ax2)\n",
    "ax2.set_xlabel(\"Age\")\n",
    "ax2.set_ylabel(\"Percentage\")\n",
    "ax2.set_title(\"Defaulting Applicant's Age in Percentage of Total\")\n",
    "\n",
    "del temp0,temp1, temp_total,con"
   ]
  },
  {
   "cell_type": "code",
   "execution_count": 8,
   "id": "e7bd847e",
   "metadata": {},
   "outputs": [
    {
     "data": {
      "image/png": "[encoded data removed]",
      "text/plain": [
       "<Figure size 1080x576 with 1 Axes>"
      ]
     },
     "metadata": {
      "needs_background": "light"
     },
     "output_type": "display_data"
    }
   ],
   "source": [
    "temp1 = df[\"NAME_EDUCATION_TYPE\"][df[\"TARGET\"]==1].value_counts()\n",
    "temp_total = df[\"NAME_EDUCATION_TYPE\"].value_counts()\n",
    "\n",
    "percent = temp1.div(temp_total)\n",
    "percent = percent.sort_values(ascending=False)\n",
    "\n",
    "fig, ax = plt.subplots(1, 1,figsize=(15,8))\n",
    "percent.plot.bar(rot=0, ax=ax)\n",
    "ax.set_xlabel(\"Education\")\n",
    "ax.set_ylabel(\"Percentage\")\n",
    "ax.set_title(\"Defaulting Applicant's Education in Percentage of Total\")\n",
    "\n",
    "del temp1, temp_total, percent"
   ]
  },
  {
   "cell_type": "code",
   "execution_count": 9,
   "id": "1dda120c",
   "metadata": {},
   "outputs": [],
   "source": [
    "def one_hot_encoder(df):\n",
    "    cat_col = [col for col in df.columns if df[col].dtype == \"object\"]\n",
    "    new_df = pd.get_dummies(df, columns=cat_col, dummy_na=True)\n",
    "    return new_df"
   ]
  },
  {
   "cell_type": "code",
   "execution_count": 10,
   "id": "0bf7a5ac",
   "metadata": {},
   "outputs": [],
   "source": [
    "df_all = df.append(df_test).reset_index()\n",
    "\n",
    "\n",
    "for feat in [\"FLAG_OWN_CAR\", \"FLAG_OWN_REALTY\"]:\n",
    "    df_all[feat], uniques = pd.factorize(df_all[feat])\n",
    "    \n",
    "\n",
    "df_all = one_hot_encoder(df_all)\n",
    "\n",
    "\n",
    "df_all[\"DAYS_EMPLOYED\"].replace(365243, np.nan, inplace= True)"
   ]
  },
  {
   "cell_type": "code",
   "execution_count": 11,
   "id": "bb5ad1cc",
   "metadata": {},
   "outputs": [],
   "source": [
    "df_all[\"AMT_ANNUITY / AMT_INCOME_TOTAL per month\"] = df_all[\"AMT_ANNUITY\"].divide(df_all[\"AMT_INCOME_TOTAL\"]/12)\n",
    "df_all[\"AMT_CREDIT / AMT_INCOME_TOTAL\"] = df_all[\"AMT_CREDIT\"].divide(df_all[\"AMT_INCOME_TOTAL\"])"
   ]
  },
  {
   "cell_type": "code",
   "execution_count": 12,
   "id": "13b3a34c",
   "metadata": {},
   "outputs": [],
   "source": [
    "df = df_all[df_all[\"TARGET\"].notnull()]\n",
    "df_test = df_all[df_all[\"TARGET\"].isnull()].drop([\"TARGET\"], axis=1)\n",
    "\n",
    "del df_all"
   ]
  },
  {
   "cell_type": "code",
   "execution_count": 13,
   "id": "5891fff3",
   "metadata": {},
   "outputs": [
    {
     "data": {
      "text/plain": [
       "EXT_SOURCE_3                           -0.178919\n",
       "EXT_SOURCE_2                           -0.160472\n",
       "EXT_SOURCE_1                           -0.155317\n",
       "NAME_EDUCATION_TYPE_Higher education   -0.056593\n",
       "CODE_GENDER_F                          -0.054704\n",
       "REGION_RATING_CLIENT                    0.058899\n",
       "REGION_RATING_CLIENT_W_CITY             0.060893\n",
       "DAYS_EMPLOYED                           0.074958\n",
       "DAYS_BIRTH                              0.078239\n",
       "Name: TARGET, dtype: float64"
      ]
     },
     "execution_count": 13,
     "metadata": {},
     "output_type": "execute_result"
    }
   ],
   "source": [
    "corrcoef = df.corr(method ='pearson')[\"TARGET\"]\n",
    "corrcoef.sort_values().dropna().iloc[np.r_[0:5, -5:-1]]"
   ]
  },
  {
   "cell_type": "code",
   "execution_count": 19,
   "id": "df4f42d8",
   "metadata": {},
   "outputs": [
    {
     "name": "stdout",
     "output_type": "stream",
     "text": [
      "Training until validation scores don't improve for 200 rounds\n",
      "[200]\ttraining's auc: 0.794292\ttraining's binary_logloss: 0.235458\tvalid_1's auc: 0.770231\tvalid_1's binary_logloss: 0.242746\n",
      "[400]\ttraining's auc: 0.823332\ttraining's binary_logloss: 0.226007\tvalid_1's auc: 0.769887\tvalid_1's binary_logloss: 0.24267\n",
      "Early stopping, best iteration is:\n",
      "[251]\ttraining's auc: 0.802399\ttraining's binary_logloss: 0.232906\tvalid_1's auc: 0.770482\tvalid_1's binary_logloss: 0.242632\n",
      "ROC AUC score of fold 1 is: 0.7704818105364167\n",
      "Training until validation scores don't improve for 200 rounds\n",
      "[200]\ttraining's auc: 0.79568\ttraining's binary_logloss: 0.234895\tvalid_1's auc: 0.750561\tvalid_1's binary_logloss: 0.248443\n",
      "[400]\ttraining's auc: 0.823797\ttraining's binary_logloss: 0.225547\tvalid_1's auc: 0.752099\tvalid_1's binary_logloss: 0.248019\n",
      "Early stopping, best iteration is:\n",
      "[385]\ttraining's auc: 0.822077\ttraining's binary_logloss: 0.226168\tvalid_1's auc: 0.752271\tvalid_1's binary_logloss: 0.248\n",
      "ROC AUC score of fold 2 is: 0.7522714384231337\n",
      "Training until validation scores don't improve for 200 rounds\n",
      "[200]\ttraining's auc: 0.794518\ttraining's binary_logloss: 0.235376\tvalid_1's auc: 0.765605\tvalid_1's binary_logloss: 0.244125\n",
      "[400]\ttraining's auc: 0.823614\ttraining's binary_logloss: 0.225812\tvalid_1's auc: 0.76564\tvalid_1's binary_logloss: 0.244001\n",
      "Early stopping, best iteration is:\n",
      "[241]\ttraining's auc: 0.801132\ttraining's binary_logloss: 0.23328\tvalid_1's auc: 0.765929\tvalid_1's binary_logloss: 0.244034\n",
      "ROC AUC score of fold 3 is: 0.7659287627353195\n",
      "Training until validation scores don't improve for 200 rounds\n",
      "[200]\ttraining's auc: 0.795611\ttraining's binary_logloss: 0.234969\tvalid_1's auc: 0.749099\tvalid_1's binary_logloss: 0.248176\n",
      "[400]\ttraining's auc: 0.824634\ttraining's binary_logloss: 0.225495\tvalid_1's auc: 0.749897\tvalid_1's binary_logloss: 0.247919\n",
      "[600]\ttraining's auc: 0.847032\ttraining's binary_logloss: 0.217268\tvalid_1's auc: 0.751089\tvalid_1's binary_logloss: 0.247659\n",
      "[800]\ttraining's auc: 0.866459\ttraining's binary_logloss: 0.209583\tvalid_1's auc: 0.750569\tvalid_1's binary_logloss: 0.247827\n",
      "Early stopping, best iteration is:\n",
      "[610]\ttraining's auc: 0.848062\ttraining's binary_logloss: 0.216879\tvalid_1's auc: 0.751155\tvalid_1's binary_logloss: 0.247643\n",
      "ROC AUC score of fold 4 is: 0.751155059726645\n",
      "Training until validation scores don't improve for 200 rounds\n",
      "[200]\ttraining's auc: 0.794165\ttraining's binary_logloss: 0.235241\tvalid_1's auc: 0.754881\tvalid_1's binary_logloss: 0.246943\n",
      "[400]\ttraining's auc: 0.823574\ttraining's binary_logloss: 0.225584\tvalid_1's auc: 0.75516\tvalid_1's binary_logloss: 0.24688\n",
      "Early stopping, best iteration is:\n",
      "[265]\ttraining's auc: 0.804576\ttraining's binary_logloss: 0.231906\tvalid_1's auc: 0.755346\tvalid_1's binary_logloss: 0.246828\n",
      "ROC AUC score of fold 5 is: 0.7553463452424555\n",
      "Training until validation scores don't improve for 200 rounds\n",
      "[200]\ttraining's auc: 0.794015\ttraining's binary_logloss: 0.235392\tvalid_1's auc: 0.761189\tvalid_1's binary_logloss: 0.245433\n",
      "[400]\ttraining's auc: 0.823472\ttraining's binary_logloss: 0.225768\tvalid_1's auc: 0.761302\tvalid_1's binary_logloss: 0.245532\n",
      "Early stopping, best iteration is:\n",
      "[290]\ttraining's auc: 0.80822\ttraining's binary_logloss: 0.230833\tvalid_1's auc: 0.761686\tvalid_1's binary_logloss: 0.245333\n",
      "ROC AUC score of fold 6 is: 0.7616858288659921\n",
      "Training until validation scores don't improve for 200 rounds\n",
      "[200]\ttraining's auc: 0.794497\ttraining's binary_logloss: 0.235398\tvalid_1's auc: 0.760205\tvalid_1's binary_logloss: 0.244761\n",
      "[400]\ttraining's auc: 0.824164\ttraining's binary_logloss: 0.225662\tvalid_1's auc: 0.760135\tvalid_1's binary_logloss: 0.244717\n",
      "Early stopping, best iteration is:\n",
      "[203]\ttraining's auc: 0.79505\ttraining's binary_logloss: 0.235222\tvalid_1's auc: 0.760347\tvalid_1's binary_logloss: 0.244723\n",
      "ROC AUC score of fold 7 is: 0.760347329667447\n",
      "Training until validation scores don't improve for 200 rounds\n",
      "[200]\ttraining's auc: 0.794497\ttraining's binary_logloss: 0.235345\tvalid_1's auc: 0.762966\tvalid_1's binary_logloss: 0.24528\n",
      "[400]\ttraining's auc: 0.824781\ttraining's binary_logloss: 0.225572\tvalid_1's auc: 0.763982\tvalid_1's binary_logloss: 0.244826\n",
      "Early stopping, best iteration is:\n",
      "[377]\ttraining's auc: 0.821638\ttraining's binary_logloss: 0.226603\tvalid_1's auc: 0.764331\tvalid_1's binary_logloss: 0.244756\n",
      "ROC AUC score of fold 8 is: 0.7643313009706535\n",
      "Training until validation scores don't improve for 200 rounds\n",
      "[200]\ttraining's auc: 0.794697\ttraining's binary_logloss: 0.235135\tvalid_1's auc: 0.757797\tvalid_1's binary_logloss: 0.246688\n",
      "[400]\ttraining's auc: 0.823826\ttraining's binary_logloss: 0.225589\tvalid_1's auc: 0.758362\tvalid_1's binary_logloss: 0.246464\n",
      "Early stopping, best iteration is:\n",
      "[367]\ttraining's auc: 0.819681\ttraining's binary_logloss: 0.227006\tvalid_1's auc: 0.75868\tvalid_1's binary_logloss: 0.246366\n",
      "ROC AUC score of fold 9 is: 0.7586796001998641\n",
      "Training until validation scores don't improve for 200 rounds\n",
      "[200]\ttraining's auc: 0.795359\ttraining's binary_logloss: 0.235023\tvalid_1's auc: 0.756796\tvalid_1's binary_logloss: 0.247422\n",
      "[400]\ttraining's auc: 0.825491\ttraining's binary_logloss: 0.225288\tvalid_1's auc: 0.756576\tvalid_1's binary_logloss: 0.247214\n",
      "Early stopping, best iteration is:\n",
      "[223]\ttraining's auc: 0.799407\ttraining's binary_logloss: 0.233763\tvalid_1's auc: 0.757049\tvalid_1's binary_logloss: 0.247322\n",
      "ROC AUC score of fold 10 is: 0.7570493545248169\n"
     ]
    },
    {
     "data": {
      "image/png": "[encoded data removed]",
      "text/plain": [
       "<Figure size 432x288 with 1 Axes>"
      ]
     },
     "metadata": {
      "needs_background": "light"
     },
     "output_type": "display_data"
    }
   ],
   "source": [
    "df_y = df[\"TARGET\"]\n",
    "df_x = df.drop([\"TARGET\"], axis=1)\n",
    "\n",
    "df_x = df_x.rename(columns = lambda x:re.sub('[^A-Za-z0-9_]+', '', x))\n",
    "\n",
    "clf = LGBMClassifier(\n",
    "            n_estimators=1000,\n",
    "            learning_rate=0.05,\n",
    "            max_depth=8,\n",
    "            min_split_gain=.01,\n",
    "            min_child_weight=2,\n",
    "            silent=-1,\n",
    "        )\n",
    "\n",
    "preds = np.zeros(df_test.shape[0])\n",
    "\n",
    "fold = StratifiedKFold(n_splits=10, shuffle=True)\n",
    "for n, (train_index, test_index) in enumerate(fold.split(df_x,df_y)):\n",
    "    X_train, X_test = df_x.iloc[train_index], df_x.iloc[test_index]\n",
    "    y_train, y_test = df_y.iloc[train_index], df_y.iloc[test_index]\n",
    "    \n",
    "    clf.fit(X_train, y_train, eval_set=[(X_train, y_train), (X_test, y_test)],\n",
    "            eval_metric=\"auc\", verbose=200, early_stopping_rounds=200)\n",
    "    \n",
    "    \n",
    "    preds += clf.predict_proba(df_test, num_iteration=clf.best_iteration_)[:, 1] / fold.n_splits\n",
    "    print(\"ROC AUC score of fold \" + str(n+1) + \" is: \" + str(roc_auc_score(y_test, clf.predict_proba(X_test)[:, 1])))\n",
    "\n",
    "fpr, tpr, _ = roc_curve(y_test, clf.predict_proba(X_test)[:, 1])\n",
    "roc_display = RocCurveDisplay(fpr=fpr, tpr=tpr).plot()\n",
    "    \n",
    "df_test['TARGET'] = preds\n",
    "df_test[['SK_ID_CURR', 'TARGET']].to_csv(\"sub.csv\", index= False)"
   ]
  },
  {
   "cell_type": "code",
   "execution_count": null,
   "id": "d14574a4",
   "metadata": {},
   "outputs": [],
   "source": []
  }
 ],
 "metadata": {
  "kernelspec": {
   "display_name": "Python 3",
   "language": "python",
   "name": "python3"
  },
  "language_info": {
   "codemirror_mode": {
    "name": "ipython",
    "version": 3
   },
   "file_extension": ".py",
   "mimetype": "text/x-python",
   "name": "python",
   "nbconvert_exporter": "python",
   "pygments_lexer": "ipython3",
   "version": "3.8.8"
  }
 },
 "nbformat": 4,
 "nbformat_minor": 5
}
